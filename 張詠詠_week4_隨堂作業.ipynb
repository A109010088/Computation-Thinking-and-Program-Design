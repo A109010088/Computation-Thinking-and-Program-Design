{
  "nbformat": 4,
  "nbformat_minor": 0,
  "metadata": {
    "colab": {
      "name": "張詠詠-week4-隨堂作業.ipynb",
      "provenance": [],
      "authorship_tag": "ABX9TyNlNhnk3Sn82bqx2T4i22Ci",
      "include_colab_link": true
    },
    "kernelspec": {
      "name": "python3",
      "display_name": "Python 3"
    }
  },
  "cells": [
    {
      "cell_type": "markdown",
      "metadata": {
        "id": "view-in-github",
        "colab_type": "text"
      },
      "source": [
        "<a href=\"https://colab.research.google.com/github/A109010088/Computation-Thinking-and-Program-Design/blob/main/%E5%BC%B5%E8%A9%A0%E8%A9%A0_week4_%E9%9A%A8%E5%A0%82%E4%BD%9C%E6%A5%AD.ipynb\" target=\"_parent\"><img src=\"https://colab.research.google.com/assets/colab-badge.svg\" alt=\"Open In Colab\"/></a>"
      ]
    },
    {
      "cell_type": "code",
      "metadata": {
        "id": "_4EmxGqsV0Gg"
      },
      "source": [
        ""
      ],
      "execution_count": null,
      "outputs": []
    },
    {
      "cell_type": "markdown",
      "metadata": {
        "id": "eetTn4zKWnHQ"
      },
      "source": [
        "#隨堂練習\r\n"
      ]
    },
    {
      "cell_type": "code",
      "metadata": {
        "id": "pZDSGMvoWyCx"
      },
      "source": [
        "ya"
      ],
      "execution_count": null,
      "outputs": []
    },
    {
      "cell_type": "markdown",
      "metadata": {
        "id": "xfFNmaYmWy4w"
      },
      "source": [
        "#課後練習"
      ]
    },
    {
      "cell_type": "code",
      "metadata": {
        "id": "OEE3ulg-W1Eu"
      },
      "source": [
        "https://technews.tw/2021/02/28/nccu-department-of-computer-science/\r\n",
        "此新聞在講述，政治大學新增的資科系，並升格為資訊學院，將與台清交成等資工科系為主的大學競爭，因為政治大學中有金融、法律、大傳、公行、財政、地政等科系，若有這些人文社會背景的學生，再加上資訊知識，結合後讓AI人才由硬轉軟，達到AI人才需求。\r\n",
        "而我認為新聞系學生需要具備資訊思維的概念，因為目前為大數據的數位時代，各方面的資訊由如排山倒海而來，身為新聞記者，需要整理大量資訊提供閱聽人了解。得到大量資訊後，需要分析和理解，再以閱聽人能了解的方法報導，從前記者使用一支筆求出真相，現在需要與數位結合，妥善運用網路資訊能寫出更好的新聞。\r\n",
        "目前的運算思維及程式設計課程，目的是要訓練學生有邏輯思考能力及運用資訊解決問題，但課程中沒有實質體會到可以用電腦解決問題，而是說一步做一步的在學習打出程式語言，而邏輯思考能力可以從解決事件的方法學習，若課程增加思辨能力，那可以將專業結合幫助未來工作進行。"
      ],
      "execution_count": null,
      "outputs": []
    }
  ]
}